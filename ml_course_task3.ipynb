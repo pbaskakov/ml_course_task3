{
 "cells": [
  {
   "cell_type": "code",
   "execution_count": 4,
   "metadata": {},
   "outputs": [],
   "source": [
    "import cv2, numpy as np\n",
    "from math import sqrt\n",
    "\n",
    "def haar(image):\n",
    "    image = image.copy()\n",
    "    if image.shape[1] % 2 != 0:\n",
    "        zero_column = np.array([[[0, 0, 0]] for i in range(image.shape[0])], dtype='uint8')\n",
    "        image = np.hstack((image, zero_column))\n",
    "    #H = np.array([[1/sqrt(2), 1/sqrt(2)], [-1/sqrt(2), 1/sqrt(2)]])\n",
    "    H = np.array([[1/2, 1/2], [-1/2, 1/2]])\n",
    "\n",
    "    for i in range(image.shape[0]):\n",
    "        new_line = np.empty(image[0].shape)\n",
    "        for j in range(0, image.shape[1], 2):\n",
    "            x = image[i][j]\n",
    "            y = image[i][j+1]\n",
    "            compressed_pair = np.dot(H, np.array([x, y]))\n",
    "            new_line[j // 2], new_line[image.shape[1] // 2 + j // 2] = compressed_pair\n",
    "        image[i] = new_line\n",
    "\n",
    "    return image\n",
    "\n",
    "\n",
    "if __name__ == '__main__':\n",
    "    img = cv2.imread('glow_cube.png')\n",
    "    compressed_image = haar(img)\n",
    "    compressed_image = np.transpose(compressed_image, (1, 0, 2))\n",
    "    compressed_image = haar(compressed_image)\n",
    "    compressed_image = np.transpose(compressed_image, (1, 0, 2))\n",
    "    cv2.imshow('Compressed image', compressed_image)\n",
    "    if cv2.waitKey(): cv2.destroyAllWindows()"
   ]
  },
  {
   "cell_type": "code",
   "execution_count": null,
   "metadata": {},
   "outputs": [],
   "source": []
  }
 ],
 "metadata": {
  "kernelspec": {
   "display_name": "Python 3",
   "language": "python",
   "name": "python3"
  },
  "language_info": {
   "codemirror_mode": {
    "name": "ipython",
    "version": 3
   },
   "file_extension": ".py",
   "mimetype": "text/x-python",
   "name": "python",
   "nbconvert_exporter": "python",
   "pygments_lexer": "ipython3",
   "version": "3.6.4"
  }
 },
 "nbformat": 4,
 "nbformat_minor": 2
}
